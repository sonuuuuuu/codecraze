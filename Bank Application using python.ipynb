{
 "cells": [
  {
   "cell_type": "code",
   "execution_count": null,
   "id": "dfd7dc7c",
   "metadata": {},
   "outputs": [
    {
     "name": "stdout",
     "output_type": "stream",
     "text": [
      "Welcome to  AXIS Bank\n",
      "Enter your name----sonu\n",
      "Hello sonu your account created successfully!\n",
      "D-Deposit\n",
      "W--Withdraw\n",
      "E-Exit\n",
      "Choose your option-----d\n",
      "Enter the amount to be deposited:1000\n",
      "Your balance: 1000.0\n",
      "D-Deposit\n",
      "W--Withdraw\n",
      "E-Exit\n"
     ]
    }
   ],
   "source": [
    "import sys\n",
    "class Customer:\n",
    "    bankname = \"AXIS Bank\"\n",
    "    def __init__(self,name,balance=0):\n",
    "        self.name = name\n",
    "        self.balance = balance\n",
    "        \n",
    "    def deposit(self,amount):\n",
    "        self.balance = self.balance+amount\n",
    "        print(\"Your balance:\",self.balance)\n",
    "        \n",
    "    def withdraw(self,amount):\n",
    "        if(self.balance<amount):\n",
    "            print(\"Sorry!! Insufficient fund!!!!\")\n",
    "        else:\n",
    "            self.balance = self.balance-amount\n",
    "            print(\"Your balance:\",self.balance)\n",
    "            \n",
    "print(\"Welcome to \",Customer.bankname)\n",
    "name = input(\"Enter your name----\")\n",
    "c1=Customer(name)\n",
    "print(\"Hello\",c1.name,\"your account created successfully!\")\n",
    "\n",
    "while True:\n",
    "    print(\"D-Deposit\\nW--Withdraw\\nE-Exit\")\n",
    "    option=input(\"Choose your option-----\")\n",
    "    if(option=='D' or option=='d'):\n",
    "        amount=float(input(\"Enter the amount to be deposited:\"))\n",
    "        c1.deposit(amount)\n",
    "    elif(option=='W' or option=='w'):\n",
    "        amount=float(input(\"Enter the amount to withdraw:\"))\n",
    "        c1.withdraw(amount)\n",
    "    elif(option=='E' or option=='e'):\n",
    "        print(\"Thank u for banking with us!!\")\n",
    "        break\n",
    "    else:\n",
    "        print(\"Please enter the valid option\")\n",
    "        break\n",
    "        "
   ]
  },
  {
   "cell_type": "code",
   "execution_count": null,
   "id": "c6a05ed0",
   "metadata": {},
   "outputs": [],
   "source": []
  }
 ],
 "metadata": {
  "kernelspec": {
   "display_name": "Python 3 (ipykernel)",
   "language": "python",
   "name": "python3"
  },
  "language_info": {
   "codemirror_mode": {
    "name": "ipython",
    "version": 3
   },
   "file_extension": ".py",
   "mimetype": "text/x-python",
   "name": "python",
   "nbconvert_exporter": "python",
   "pygments_lexer": "ipython3",
   "version": "3.9.12"
  }
 },
 "nbformat": 4,
 "nbformat_minor": 5
}
