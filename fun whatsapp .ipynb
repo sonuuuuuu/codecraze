{
 "cells": [
  {
   "cell_type": "code",
   "execution_count": 12,
   "id": "44395783",
   "metadata": {},
   "outputs": [],
   "source": [
    "import random\n",
    "import pyautogui \n",
    "import time\n",
    "time.sleep(3)\n",
    "\n",
    "animal = (\"moneky\",\"donkey\",\"idiot\")\n",
    "for i in range(10):\n",
    "    a = random.choice(animal)\n",
    "    pyautogui.typewrite(\"You are a \"+a)\n",
    "    pyautogui.press('enter')"
   ]
  },
  {
   "cell_type": "code",
   "execution_count": null,
   "id": "34d25d1e",
   "metadata": {},
   "outputs": [],
   "source": []
  }
 ],
 "metadata": {
  "kernelspec": {
   "display_name": "Python 3 (ipykernel)",
   "language": "python",
   "name": "python3"
  },
  "language_info": {
   "codemirror_mode": {
    "name": "ipython",
    "version": 3
   },
   "file_extension": ".py",
   "mimetype": "text/x-python",
   "name": "python",
   "nbconvert_exporter": "python",
   "pygments_lexer": "ipython3",
   "version": "3.9.12"
  }
 },
 "nbformat": 4,
 "nbformat_minor": 5
}
