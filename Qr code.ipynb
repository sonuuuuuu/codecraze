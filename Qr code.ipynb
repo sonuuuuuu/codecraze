{
 "cells": [
  {
   "cell_type": "code",
   "execution_count": 6,
   "id": "6cbd67be",
   "metadata": {},
   "outputs": [],
   "source": [
    "# Method-1(Black and white)\n",
    "\n",
    "import qrcode as qr\n",
    "img = qr.make(\"https://www.youtube.com/@rajkumarthakur7767\")\n",
    "img.save(\"Raj_Youtube.png\")"
   ]
  },
  {
   "cell_type": "code",
   "execution_count": 15,
   "id": "6b12db5f",
   "metadata": {},
   "outputs": [],
   "source": [
    "#Method-2\n",
    "\n",
    "import qrcode\n",
    "from PIL import Image\n",
    "\n",
    "qr = qrcode.QRCode(version=1,\n",
    "                  error_correction = qrcode.constants.ERROR_CORRECT_H,box_size=5,border=4,)\n",
    "qr.add_data(\"https://www.youtube.com/@rajkumarthakur7767\")\n",
    "qr.make(fit=True)\n",
    "img = qr.make_image(fill_color=\"red\",back_color=\"blue\")\n",
    "img.save(\"Raj_Scanner.png\")"
   ]
  },
  {
   "cell_type": "code",
   "execution_count": null,
   "id": "5e3501e9",
   "metadata": {},
   "outputs": [],
   "source": []
  }
 ],
 "metadata": {
  "kernelspec": {
   "display_name": "Python 3 (ipykernel)",
   "language": "python",
   "name": "python3"
  },
  "language_info": {
   "codemirror_mode": {
    "name": "ipython",
    "version": 3
   },
   "file_extension": ".py",
   "mimetype": "text/x-python",
   "name": "python",
   "nbconvert_exporter": "python",
   "pygments_lexer": "ipython3",
   "version": "3.9.12"
  }
 },
 "nbformat": 4,
 "nbformat_minor": 5
}
